{
 "cells": [
  {
   "cell_type": "markdown",
   "metadata": {},
   "source": [
    "# Scrape tweets from available caches\n",
    "\n",
    "Once we've found the available archives we need to scrape the HTML of those pages for the tweet content.\n",
    "\n",
    "We'll use the `lxml` library and XPath expressions to do that.\n",
    "\n",
    "Since the caches were taken at different times, the structure of the HTML may have changed. We'll need to write code that can handle parsing these different formats."
   ]
  },
  {
   "cell_type": "code",
   "execution_count": 697,
   "metadata": {},
   "outputs": [],
   "source": [
    "import json\n",
    "import requests\n",
    "import lxml.html"
   ]
  },
  {
   "cell_type": "code",
   "execution_count": 698,
   "metadata": {},
   "outputs": [],
   "source": [
    "def extract_hashtag(selector):\n",
    "    d = {\n",
    "        \"tag\": selector.xpath(\".//b\")[0].text,\n",
    "        \"archived_url\": selector.get(\"href\")\n",
    "    }\n",
    "    return d"
   ]
  },
  {
   "cell_type": "code",
   "execution_count": 699,
   "metadata": {},
   "outputs": [],
   "source": [
    "def extract_hashtags(selector):\n",
    "    hashtags_selector = selector.xpath(\".//a[contains(@class, 'twitter-hashtag')]\")\n",
    "    hashtags = [extract_hashtag(hs) for hs in hashtags_selector]\n",
    "    return hashtags"
   ]
  },
  {
   "cell_type": "code",
   "execution_count": 700,
   "metadata": {},
   "outputs": [],
   "source": [
    "def extract_link(selector):\n",
    "    expanded_url = selector.get(\"data-expanded-url\")\n",
    "    resolved_url = selector.get(\"data-resolved-url-large\")\n",
    "    if expanded_url:\n",
    "        url = expanded_url\n",
    "    elif resolved_url:\n",
    "        url = resolved_url\n",
    "    else:\n",
    "        url = selector.text\n",
    "        \n",
    "    d = {\n",
    "        \"url\": url,\n",
    "        \"archived_url\": selector.get(\"href\")\n",
    "    }\n",
    "    return d"
   ]
  },
  {
   "cell_type": "code",
   "execution_count": 701,
   "metadata": {},
   "outputs": [],
   "source": [
    "def extract_links(selector):\n",
    "    links_selector = selector.xpath(\".//a[contains(@class, 'twitter-timeline-link')]\")\n",
    "    links = [extract_link(ls) for ls in links_selector]\n",
    "    return links"
   ]
  },
  {
   "cell_type": "markdown",
   "metadata": {},
   "source": [
    "## Older Twitter pages\n",
    "\n",
    "We found two versions of the Twitter user page in the caches. The older one is from ~2015."
   ]
  },
  {
   "cell_type": "code",
   "execution_count": 702,
   "metadata": {},
   "outputs": [],
   "source": [
    "def extract_older_tweet(selector):\n",
    "    try:\n",
    "        container_selector = selector.xpath(\".//div\")[0]    \n",
    "    except IndexError as e:\n",
    "        return None\n",
    "    \n",
    "    tweet_id = container_selector.get(\"data-tweet-id\")    \n",
    "    screen_name = container_selector.get(\"data-screen-name\")\n",
    "    try:\n",
    "        permalink = container_selector.xpath(\".//a[contains(@class, 'js-permalink')]\")[0].get(\"href\")\n",
    "    except IndexError as e:\n",
    "        permalink = None\n",
    "    user_id = container_selector.get(\"data-user-id\")\n",
    "    \n",
    "    try:\n",
    "        tweet_content = container_selector.xpath(\".//p[contains(@class, 'ProfileTweet-text')]\")[0]\n",
    "    except IndexError as e:\n",
    "        tweet_text = None\n",
    "    else:\n",
    "        tweet_text = tweet_content.text\n",
    "    \n",
    "    hashtags = extract_hashtags(container_selector)\n",
    "    links = extract_links(container_selector)\n",
    "    d = {\n",
    "        \"tweet_id\": tweet_id,\n",
    "        \"screen_name\": screen_name,\n",
    "        \"permalink\": permalink,\n",
    "        \"user_id\": user_id,\n",
    "        \"tweet_text\": tweet_text,\n",
    "        \"hashtags\": hashtags,\n",
    "        \"links\": links,\n",
    "    }\n",
    "    return d"
   ]
  },
  {
   "cell_type": "markdown",
   "metadata": {},
   "source": [
    "## Some tweets from the older Twitter user page"
   ]
  },
  {
   "cell_type": "code",
   "execution_count": 703,
   "metadata": {},
   "outputs": [
    {
     "data": {
      "text/plain": [
       "200"
      ]
     },
     "execution_count": 703,
     "metadata": {},
     "output_type": "execute_result"
    }
   ],
   "source": [
    "url = \"http://web.archive.org/web/20150603004258/https://twitter.com/NikaFast\"\n",
    "req = requests.get(url)\n",
    "req.status_code"
   ]
  },
  {
   "cell_type": "code",
   "execution_count": 704,
   "metadata": {},
   "outputs": [
    {
     "data": {
      "text/plain": [
       "<Element html at 0x7efcb82f25e8>"
      ]
     },
     "execution_count": 704,
     "metadata": {},
     "output_type": "execute_result"
    }
   ],
   "source": [
    "root = lxml.html.fromstring(req.text)\n",
    "root"
   ]
  },
  {
   "cell_type": "code",
   "execution_count": 705,
   "metadata": {},
   "outputs": [],
   "source": [
    "older_tweets_selector = root.xpath(\"//div[@data-item-type='tweet']\")"
   ]
  },
  {
   "cell_type": "code",
   "execution_count": 706,
   "metadata": {},
   "outputs": [
    {
     "data": {
      "text/plain": [
       "[{'tweet_id': '478219206542901249',\n",
       "  'screen_name': 'NikaFast',\n",
       "  'permalink': '/web/20140615165707/https://twitter.com/NikaFast/status/478219206542901249',\n",
       "  'user_id': '772081711',\n",
       "  'tweet_text': 'Ну, это больше похоже на шутку. Хотя... ЕС - марионетка США, вредящая странам участницам. ',\n",
       "  'hashtags': [],\n",
       "  'links': [{'url': 'http://bit.ly/1lCXL1d',\n",
       "    'archived_url': 'http://web.archive.org/web/20140615165707/http://t.co/SB2S8EmxKD'}]},\n",
       " {'tweet_id': '478180966305763329',\n",
       "  'screen_name': 'NikaFast',\n",
       "  'permalink': '/web/20140615165707/https://twitter.com/NikaFast/status/478180966305763329',\n",
       "  'user_id': '772081711',\n",
       "  'tweet_text': 'Переговоры велись в трёхстороннем режиме:Россия-Украина-ЕС. ',\n",
       "  'hashtags': [{'tag': 'ЕС',\n",
       "    'archived_url': '/web/20140615165707/https://twitter.com/hashtag/%D0%95%D0%A1?src=hash'}],\n",
       "  'links': [{'url': 'http://bit.ly/1p4F7ka',\n",
       "    'archived_url': 'http://web.archive.org/web/20140615165707/http://t.co/BVbQTAcjPH'}]},\n",
       " {'tweet_id': '478154055840055296',\n",
       "  'screen_name': 'NikaFast',\n",
       "  'permalink': '/web/20140615165707/https://twitter.com/NikaFast/status/478154055840055296',\n",
       "  'user_id': '772081711',\n",
       "  'tweet_text': 'Вы читали это? ЕС забыли о своих принципах ',\n",
       "  'hashtags': [],\n",
       "  'links': [{'url': 'http://bit.ly/1hWT56S',\n",
       "    'archived_url': 'http://web.archive.org/web/20140615165707/http://t.co/JFEtsuKzMB'}]}]"
      ]
     },
     "execution_count": 706,
     "metadata": {},
     "output_type": "execute_result"
    }
   ],
   "source": [
    "older_tweets = [extract_older_tweet(s) for s in tweets_selector]\n",
    "older_tweets[:3]"
   ]
  },
  {
   "cell_type": "markdown",
   "metadata": {},
   "source": [
    "##  Newer Twitter user page\n",
    "\n",
    "The other version of Twitter user page we found in the Internet Archive cache was used around ~2016-2017."
   ]
  },
  {
   "cell_type": "code",
   "execution_count": 716,
   "metadata": {},
   "outputs": [],
   "source": [
    "def extract_newer_tweet(selector):\n",
    "    try:\n",
    "        container_selector = selector.xpath(\"./div[contains(@class, 'tweet')]\")[0]\n",
    "    except IndexError as e:\n",
    "        return None\n",
    "    \n",
    "    tweet_id = selector.get(\"data-item-id\")\n",
    "    screen_name = container_selector.get(\"data-screen-name\")\n",
    "    permalink = container_selector.get(\"data-permalink-path\")\n",
    "    user_id = container_selector.get(\"data-user-id\")\n",
    "    try:\n",
    "        span_timestamp = container_selector.xpath(\".//span[contains(@class, '_timestamp')]\")[0]\n",
    "    except IndexError as e:\n",
    "        timestamp_ms = None   \n",
    "    else:\n",
    "        timestamp_ms = span_timestamp.get(\"data-time-ms\")\n",
    "    \n",
    "    try:\n",
    "        tweet_content = container_selector.xpath(\".//p[contains(@class, 'tweet-text')]\")[0]\n",
    "    except IndexError as e:\n",
    "        tweet_text = None\n",
    "    else:\n",
    "        tweet_text = tweet_content.text\n",
    "    \n",
    "    hashtags = extract_hashtags(container_selector)\n",
    "    links = extract_links(container_selector)\n",
    "    \n",
    "    d = {\n",
    "        \"tweet_id\": tweet_id,\n",
    "        \"screen_name\": screen_name,\n",
    "        \"permalink\": permalink,\n",
    "        \"user_id\": user_id,\n",
    "        \"tweet_text\": tweet_text,\n",
    "        \"timestamp_ms\": timestamp_ms,\n",
    "        \"hashtags\": hashtags,\n",
    "        \"links\": links\n",
    "    }\n",
    "    return d"
   ]
  },
  {
   "cell_type": "markdown",
   "metadata": {},
   "source": [
    "## Some tweets from the newer Twitter user page"
   ]
  },
  {
   "cell_type": "code",
   "execution_count": 708,
   "metadata": {},
   "outputs": [
    {
     "data": {
      "text/plain": [
       "200"
      ]
     },
     "execution_count": 708,
     "metadata": {},
     "output_type": "execute_result"
    }
   ],
   "source": [
    "url = \"http://web.archive.org/web/20150603004258/https://twitter.com/AlwaysHungryBae\"\n",
    "req = requests.get(url)\n",
    "req.status_code"
   ]
  },
  {
   "cell_type": "code",
   "execution_count": 709,
   "metadata": {},
   "outputs": [
    {
     "data": {
      "text/plain": [
       "<Element html at 0x7efcb82f2188>"
      ]
     },
     "execution_count": 709,
     "metadata": {},
     "output_type": "execute_result"
    }
   ],
   "source": [
    "root = lxml.html.fromstring(req.text)\n",
    "root"
   ]
  },
  {
   "cell_type": "code",
   "execution_count": 710,
   "metadata": {},
   "outputs": [],
   "source": [
    "newer_tweets_selector = root.xpath(\"//li[@data-item-type='tweet']\")"
   ]
  },
  {
   "cell_type": "code",
   "execution_count": 711,
   "metadata": {},
   "outputs": [
    {
     "data": {
      "text/plain": [
       "[{'tweet_id': '561931644785811457',\n",
       "  'screen_name': 'AlwaysHungryBae',\n",
       "  'permalink': '/AlwaysHungryBae/status/561931644785811457',\n",
       "  'user_id': '2882130846',\n",
       "  'tweet_text': 'Happy Super Bowl Sunday \\n',\n",
       "  'timestamp_ms': '1422809918000',\n",
       "  'hashtags': [{'tag': 'superbowlfood',\n",
       "    'archived_url': '/web/20150603004258/https://twitter.com/hashtag/superbowlfood?src=hash'}],\n",
       "  'links': [{'url': 'pic.twitter.com/s6rwMtdLom',\n",
       "    'archived_url': 'http://web.archive.org/web/20150603004258/http://t.co/s6rwMtdLom'},\n",
       "   {'url': 'https://pbs.twimg.com/media/B8xh2fFCQAE-vxU.jpg:large',\n",
       "    'archived_url': '//web.archive.org/web/20150603004258/https://twitter.com/AlwaysHungryBae/status/561931644785811457/photo/1'}]},\n",
       " {'tweet_id': '561917739108155392',\n",
       "  'screen_name': 'BMoreBirdsNest',\n",
       "  'permalink': '/BMoreBirdsNest/status/561917739108155392',\n",
       "  'user_id': '61483830',\n",
       "  'tweet_text': 'Making the award-winning Pigs in a Pillow again today! Bacon, goat cheese, jam, glazed donut as bread. ',\n",
       "  'timestamp_ms': '1422806603000',\n",
       "  'hashtags': [{'tag': 'superbowlfood',\n",
       "    'archived_url': '/web/20150603004258/https://twitter.com/hashtag/superbowlfood?src=hash'}],\n",
       "  'links': [{'url': 'pic.twitter.com/19IWyMWGcf',\n",
       "    'archived_url': 'http://web.archive.org/web/20150603004258/http://t.co/19IWyMWGcf'},\n",
       "   {'url': 'https://pbs.twimg.com/media/B8xVNLwCYAAKikV.png:large',\n",
       "    'archived_url': '//web.archive.org/web/20150603004258/https://twitter.com/BMoreBirdsNest/status/561917739108155392/photo/1'}]},\n",
       " {'tweet_id': '561922993870217216',\n",
       "  'screen_name': 'Juliemennealy',\n",
       "  'permalink': '/Juliemennealy/status/561922993870217216',\n",
       "  'user_id': '50809521',\n",
       "  'tweet_text': \"All done making the tortilla roll ups. They're not perfect, but they taste good. \",\n",
       "  'timestamp_ms': '1422807856000',\n",
       "  'hashtags': [{'tag': 'SampledOne',\n",
       "    'archived_url': '/web/20150603004258/https://twitter.com/hashtag/SampledOne?src=hash'},\n",
       "   {'tag': 'SuperBowlFood',\n",
       "    'archived_url': '/web/20150603004258/https://twitter.com/hashtag/SuperBowlFood?src=hash'}],\n",
       "  'links': [{'url': 'pic.twitter.com/gXBZ6savMM',\n",
       "    'archived_url': 'http://web.archive.org/web/20150603004258/http://t.co/gXBZ6savMM'},\n",
       "   {'url': 'https://pbs.twimg.com/media/B8xZ-kSCEAAMbXl.jpg:large',\n",
       "    'archived_url': '//web.archive.org/web/20150603004258/https://twitter.com/Juliemennealy/status/561922993870217216/photo/1'}]}]"
      ]
     },
     "execution_count": 711,
     "metadata": {},
     "output_type": "execute_result"
    }
   ],
   "source": [
    "newer_tweets = [extract_newer_tweet(s) for s in newer_tweets_selector]\n",
    "newer_tweets[:3]"
   ]
  },
  {
   "cell_type": "markdown",
   "metadata": {},
   "source": [
    "## Scraping Tweets\n",
    "\n",
    "Now that our parsing code can handle either HTML format let's scrape all the tweets we can find from the available archives:"
   ]
  },
  {
   "cell_type": "code",
   "execution_count": 717,
   "metadata": {},
   "outputs": [
    {
     "name": "stdout",
     "output_type": "stream",
     "text": [
      "Found 21 tweet/s for http://web.archive.org/web/20171003154430/https://twitter.com/4ever1937\n",
      "\n",
      "Found 20 tweet/s for http://web.archive.org/web/20160208193830/https://twitter.com/4MySquad\n",
      "\n",
      "Found 19 tweet/s for http://web.archive.org/web/20150814102034/https://twitter.com/_SherylGilbert\n",
      "\n",
      "Found 20 tweet/s for http://web.archive.org/web/20170218070727/https://twitter.com/acejinev\n",
      "\n",
      "Found 20 tweet/s for http://web.archive.org/web/20170121124009/https://twitter.com/Aldrich420\n",
      "\n",
      "Found 19 tweet/s for http://web.archive.org/web/20150603004258/https://twitter.com/AlwaysHungryBae\n",
      "\n",
      "Found 20 tweet/s for http://web.archive.org/web/20170323143223/https://twitter.com/ameliebaldwin\n",
      "\n",
      "Found 20 tweet/s for http://web.archive.org/web/20150603005024/https://twitter.com/AnnRussela/\n",
      "\n",
      "No tweets for http://web.archive.org/web/20100329223044/http://twitter.com:80/anzgri\n",
      "\n",
      "Found 19 tweet/s for http://web.archive.org/web/20170425084324/https://twitter.com/atlanta_online\n",
      "\n",
      "Found 21 tweet/s for http://web.archive.org/web/20160415152157/https://twitter.com/Baltimore0nline\n",
      "\n",
      "Found 50 tweet/s for http://web.archive.org/web/20160505025535/https://twitter.com/BatonRougeVoice\n",
      "\n",
      "Found 20 tweet/s for http://web.archive.org/web/20160911020109/https://twitter.com/Beckster319\n",
      "\n",
      "No tweets for http://web.archive.org/web/20150117183304/https://twitter.com/BenButala1\n",
      "\n",
      "Found 20 tweet/s for http://web.archive.org/web/20151210214225/https://twitter.com/BlackEyeBlog\n",
      "\n",
      "Found 21 tweet/s for http://web.archive.org/web/20161122064231/https://twitter.com/blackmattersus\n",
      "\n",
      "Found 20 tweet/s for http://web.archive.org/web/20170718055100/https://twitter.com/BlackNewsOutlet\n",
      "\n",
      "Found 20 tweet/s for http://web.archive.org/web/20170901110108/https://twitter.com/BlackToLive\n",
      "\n",
      "Found 21 tweet/s for http://web.archive.org/web/20170608075134/https://twitter.com/BleepThePolice\n",
      "\n",
      "Found 20 tweet/s for http://web.archive.org/web/20160905111704/https://twitter.com/byDrBre\n",
      "\n",
      "Found 20 tweet/s for http://web.archive.org/web/20160706073445/https://twitter.com/ChicagoDailyNew\n",
      "\n",
      "Found 20 tweet/s for http://web.archive.org/web/20171001091020/https://twitter.com/chrisuport_port\n",
      "\n",
      "Found 20 tweet/s for http://web.archive.org/web/20151210123616/https://twitter.com/ChrixMorgan\n",
      "\n",
      "Found 19 tweet/s for http://web.archive.org/web/20151007224717/https://twitter.com/colbyst1\n",
      "\n",
      "Found 20 tweet/s for http://web.archive.org/web/20160808095228/https://twitter.com/coldwar20_ru\n",
      "\n",
      "Found 31 tweet/s for http://web.archive.org/web/20170922112350/https://twitter.com/ComradZampolit\n",
      "\n",
      "Found 20 tweet/s for http://web.archive.org/web/20170725121503/https://twitter.com/Crystal1Johnson\n",
      "\n",
      "Found 20 tweet/s for http://web.archive.org/web/20161128144821/https://twitter.com/CynthiaMHunter\n",
      "\n",
      "Found 20 tweet/s for http://web.archive.org/web/20160927062539/https://twitter.com/DailySanFran\n",
      "\n",
      "Found 21 tweet/s for http://web.archive.org/web/20150705065801/https://twitter.com/DanaGeezus\n",
      "\n",
      "Found 20 tweet/s for http://web.archive.org/web/20170118023703/https://twitter.com/dieter_port\n",
      "\n",
      "Found 27 tweet/s for http://web.archive.org/web/20150814102035/https://twitter.com/DrGregoryWest/\n",
      "\n",
      "Found 41 tweet/s for http://web.archive.org/web/20170705040727/https://twitter.com/ELEVEN_GOP/\n",
      "\n",
      "Found 20 tweet/s for http://web.archive.org/web/20170718140031/https://twitter.com/eliseeva_tan\n",
      "\n",
      "Found 20 tweet/s for http://web.archive.org/web/20150601120619/https://twitter.com/elmerwaynee\n",
      "\n",
      "Found 20 tweet/s for http://web.archive.org/web/20150603004917/https://twitter.com/EricTraPPP/\n",
      "\n",
      "Found 19 tweet/s for http://web.archive.org/web/20151012191438/https://twitter.com/giselleevns\n",
      "\n",
      "Found 20 tweet/s for http://web.archive.org/web/20170127234440/https://twitter.com/gloed_up\n",
      "\n",
      "Found 20 tweet/s for http://web.archive.org/web/20170619160029/https://twitter.com/godh8sbigots\n",
      "\n",
      "Found 21 tweet/s for http://web.archive.org/web/20170922111856/https://twitter.com/GoodSPB_lj\n",
      "\n",
      "Found 19 tweet/s for http://web.archive.org/web/20150613221749/https://twitter.com/heyits_toby\n",
      "\n",
      "No tweets for http://web.archive.org/web/20150517235324/https://twitter.com/IanCalh0un\n",
      "\n",
      "Found 21 tweet/s for http://web.archive.org/web/20160330194104/https://twitter.com/inforeactor\n",
      "\n",
      "Found 19 tweet/s for http://web.archive.org/web/20160321165536/https://twitter.com/InformSyrien\n",
      "\n",
      "Found 20 tweet/s for http://web.archive.org/web/20170118023844/https://twitter.com/ingrkoch_koch\n",
      "\n",
      "Found 20 tweet/s for http://web.archive.org/web/20161128144916/https://twitter.com/J0hnLarsen\n",
      "\n",
      "Found 21 tweet/s for http://web.archive.org/web/20160910013143/https://twitter.com/Jeblary2016\n",
      "\n",
      "Found 21 tweet/s for http://web.archive.org/web/20170718105311/https://twitter.com/Jenn_Abrams\n",
      "\n",
      "Found 20 tweet/s for http://web.archive.org/web/20160905041311/https://twitter.com/Jihadist2ndWife\n",
      "\n",
      "Found 20 tweet/s for http://web.archive.org/web/20170121124511/https://twitter.com/JudeLambertUSA\n",
      "\n",
      "Found 20 tweet/s for http://web.archive.org/web/20150724102913/https://twitter.com/KadirovRussia\n",
      "\n",
      "Found 20 tweet/s for http://web.archive.org/web/20160209055425/https://twitter.com/kansasdailynews\n",
      "\n",
      "Found 20 tweet/s for http://web.archive.org/web/20170118024050/https://twitter.com/klara_sauber\n",
      "\n",
      "Found 18 tweet/s for http://web.archive.org/web/20150603004958/https://twitter.com/Ksarah12/\n",
      "\n",
      "Found 20 tweet/s for http://web.archive.org/web/20161128144057/https://twitter.com/LauraBaeley\n",
      "\n",
      "Found 21 tweet/s for http://web.archive.org/web/20170806214312/https://twitter.com/LavrovMuesli\n",
      "\n",
      "Found 19 tweet/s for http://web.archive.org/web/20170327194857/https://twitter.com/lelandGraves_\n",
      "\n",
      "Found 20 tweet/s for http://web.archive.org/web/20161204213112/https://twitter.com/LeroyLovesUSA\n",
      "\n",
      "Found 20 tweet/s for http://web.archive.org/web/20170826010708/https://twitter.com/lukas_rosler\n",
      "\n",
      "Found 20 tweet/s for http://web.archive.org/web/20170802195002/https://twitter.com/MargoSavazh\n",
      "\n",
      "Found 20 tweet/s for http://web.archive.org/web/20170118023520/https://twitter.com/martin_s32\n",
      "\n",
      "Found 20 tweet/s for http://web.archive.org/web/20151108085709/https://twitter.com/MatEvidence\n",
      "\n",
      "Found 20 tweet/s for http://web.archive.org/web/20151020204857/https://twitter.com/matevidenceru\n",
      "\n",
      "Found 20 tweet/s for http://web.archive.org/web/20160917142911/https://twitter.com/MaxDementiev\n",
      "\n",
      "Found 51 tweet/s for http://web.archive.org/web/20160517025111/https://twitter.com/MissouriNewsUS\n",
      "\n",
      "No tweets for http://web.archive.org/web/20141031215105/https://twitter.com/MotherlandR\n",
      "\n",
      "No tweets for http://web.archive.org/web/20150503052617/https://twitter.com/nevnov_ru\n",
      "\n",
      "No tweets for http://web.archive.org/web/20140615165707/https://twitter.com/NikaFast\n",
      "\n",
      "Found 20 tweet/s for http://web.archive.org/web/20160609010437/https://twitter.com/nj_blacknews\n",
      "\n",
      "Found 21 tweet/s for http://web.archive.org/web/20160906000955/https://twitter.com/NovostiDamask\n",
      "\n",
      "Found 20 tweet/s for http://web.archive.org/web/20160208191715/https://twitter.com/OnlineCleveland\n",
      "\n",
      "Found 20 tweet/s for http://web.archive.org/web/20170821021931/https://twitter.com/Pamela_Moore13\n",
      "\n",
      "Found 21 tweet/s for http://web.archive.org/web/20160627224949/https://twitter.com/pigeontoday\n",
      "\n",
      "No tweets for http://web.archive.org/web/20140810013717/https://twitter.com/politics_t0day\n",
      "\n",
      "No tweets for http://web.archive.org/web/20141031215228/https://twitter.com/Politkach\n",
      "\n",
      "No tweets for http://web.archive.org/web/20150515020739/https://twitter.com/Politweecs\n",
      "\n",
      "Found 19 tweet/s for http://web.archive.org/web/20150813234015/https://twitter.com/polyegolovy\n",
      "\n",
      "Found 20 tweet/s for http://web.archive.org/web/20161128144742/https://twitter.com/RealRobert1987\n",
      "\n",
      "Found 21 tweet/s for http://web.archive.org/web/20170826052955/https://twitter.com/realTEN_GOP\n",
      "\n",
      "Found 20 tweet/s for http://web.archive.org/web/20170206064836/https://twitter.com/riafanru\n",
      "\n",
      "Found 20 tweet/s for http://web.archive.org/web/20180612203008/https://twitter.com/robbydelaware\n",
      "\n",
      "Found 20 tweet/s for http://web.archive.org/web/20170630163145/https://twitter.com/russianallies\n",
      "\n",
      "Found 20 tweet/s for http://web.archive.org/web/20170118023722/https://twitter.com/schultei2\n",
      "\n",
      "Found 20 tweet/s for http://web.archive.org/web/20170501010556/https://twitter.com/SCOTTGOHARD\n",
      "\n",
      "Found 21 tweet/s for http://web.archive.org/web/20170523095000/https://twitter.com/southlonestar\n",
      "\n",
      "No tweets for http://web.archive.org/web/20141018071506/https://twitter.com/SpasiboVVP\n",
      "\n"
     ]
    },
    {
     "name": "stdout",
     "output_type": "stream",
     "text": [
      "Found 20 tweet/s for http://web.archive.org/web/20170718121946/https://twitter.com/SpecialAffair\n",
      "\n",
      "Found 19 tweet/s for http://web.archive.org/web/20160609011646/https://twitter.com/StLouisOnline\n",
      "\n",
      "Found 21 tweet/s for http://web.archive.org/web/20170818065026/https://twitter.com/TEN_GOP\n",
      "\n",
      "Found 21 tweet/s for http://web.archive.org/web/20170901204311/https://twitter.com/TheFoundingSon\n",
      "\n",
      "Found 21 tweet/s for http://web.archive.org/web/20151125170757/https://twitter.com/todaycleveland\n",
      "\n",
      "Found 20 tweet/s for http://web.archive.org/web/20170305061124/https://twitter.com/todayinsyria\n",
      "\n",
      "Found 19 tweet/s for http://web.archive.org/web/20151230073807/https://twitter.com/TodayMiami\n",
      "\n",
      "Found 20 tweet/s for http://web.archive.org/web/20151130095931/https://twitter.com/todaypittsburgh\n",
      "\n",
      "Found 20 tweet/s for http://web.archive.org/web/20170221154320/https://twitter.com/tpartynews\n",
      "\n",
      "Found 21 tweet/s for http://web.archive.org/web/20170718070114/https://twitter.com/TrayneshaCole\n",
      "\n",
      "Found 20 tweet/s for http://web.archive.org/web/20170818064400/https://twitter.com/USA_Gunslinger\n",
      "\n",
      "Found 20 tweet/s for http://web.archive.org/web/20161128144105/https://twitter.com/wadeharriot\n",
      "\n",
      "Found 20 tweet/s for http://web.archive.org/web/20171001161632/https://twitter.com/WarfareWW\n",
      "\n",
      "Found 19 tweet/s for http://web.archive.org/web/20150819022401/https://twitter.com/zubovnik\n",
      "\n",
      "CPU times: user 9.29 s, sys: 644 ms, total: 9.94 s\n",
      "Wall time: 5min 48s\n"
     ]
    }
   ],
   "source": [
    "%%time\n",
    "all_tweets = []\n",
    "with open(\"data/avail_urls.txt\") as f:\n",
    "    for url in f:\n",
    "        req = requests.get(url)\n",
    "        root = lxml.html.fromstring(req.text)\n",
    "        tweets = []\n",
    "        \n",
    "        older_tweets_selector = root.xpath(\"//div[@data-item-type='tweet']\")\n",
    "        tweets = [extract_older_tweet(s) for s in older_tweets_selector if s is not None]\n",
    "        \n",
    "        newer_tweets_selector = root.xpath(\"//li[@data-item-type='tweet']\")\n",
    "        tweets = [extract_newer_tweet(s) for s in newer_tweets_selector if s is not None]\n",
    "        \n",
    "        if not tweets:\n",
    "            print(\"No tweets for {}\".format(url))\n",
    "        else:\n",
    "            print(\"Found {} tweet/s for {}\".format(len(tweets), url))\n",
    "            all_tweets.extend(tweets)"
   ]
  },
  {
   "cell_type": "code",
   "execution_count": 718,
   "metadata": {},
   "outputs": [
    {
     "data": {
      "text/plain": [
       "1904"
      ]
     },
     "execution_count": 718,
     "metadata": {},
     "output_type": "execute_result"
    }
   ],
   "source": [
    "len(all_tweets)"
   ]
  },
  {
   "cell_type": "code",
   "execution_count": 730,
   "metadata": {},
   "outputs": [
    {
     "data": {
      "text/plain": [
       "1463"
      ]
     },
     "execution_count": 730,
     "metadata": {},
     "output_type": "execute_result"
    }
   ],
   "source": [
    "valid_tweets = [t for t in all_tweets if (t is not None and t[\"tweet_text\"] is not None)]\n",
    "len(valid_tweets)"
   ]
  },
  {
   "cell_type": "code",
   "execution_count": 731,
   "metadata": {},
   "outputs": [
    {
     "data": {
      "text/plain": [
       "441"
      ]
     },
     "execution_count": 731,
     "metadata": {},
     "output_type": "execute_result"
    }
   ],
   "source": [
    "invalid_tweets = [t for t in all_tweets if (t is None or t[\"tweet_text\"] is None)]\n",
    "len(invalid_tweets)"
   ]
  },
  {
   "cell_type": "code",
   "execution_count": 732,
   "metadata": {},
   "outputs": [
    {
     "data": {
      "text/plain": [
       "{'tweet_id': '915184813522505728',\n",
       " 'screen_name': '4ever1937',\n",
       " 'permalink': '/4ever1937/status/915184813522505728',\n",
       " 'user_id': '748870305280647168',\n",
       " 'tweet_text': 'Маразм крепчал',\n",
       " 'timestamp_ms': '1507032037000',\n",
       " 'hashtags': [],\n",
       " 'links': [{'url': 'pic.twitter.com/tqhdHePcsc',\n",
       "   'archived_url': 'http://web.archive.org/web/20171003154430/https://t.co/tqhdHePcsc'}]}"
      ]
     },
     "execution_count": 732,
     "metadata": {},
     "output_type": "execute_result"
    }
   ],
   "source": [
    "valid_tweets[0]"
   ]
  },
  {
   "cell_type": "code",
   "execution_count": 734,
   "metadata": {},
   "outputs": [
    {
     "data": {
      "text/plain": [
       "[{'tweet_id': '848170166181666816',\n",
       "  'screen_name': '4ever1937',\n",
       "  'permalink': '/4ever1937/status/848170166181666816',\n",
       "  'user_id': '748870305280647168',\n",
       "  'tweet_text': None,\n",
       "  'timestamp_ms': '1491054500000',\n",
       "  'hashtags': [],\n",
       "  'links': [{'url': 'pic.twitter.com/ya2H0K0aQZ',\n",
       "    'archived_url': 'http://web.archive.org/web/20171003154430/https://t.co/ya2H0K0aQZ'}]},\n",
       " None,\n",
       " {'tweet_id': '695623657410977792',\n",
       "  'screen_name': '4MySquad',\n",
       "  'permalink': '/4MySquad/status/695623657410977792',\n",
       "  'user_id': '4036537452',\n",
       "  'tweet_text': None,\n",
       "  'timestamp_ms': '1454684578000',\n",
       "  'hashtags': [{'tag': 'BlackTwitter',\n",
       "    'archived_url': '/web/20160208193830/https://twitter.com/hashtag/BlackTwitter?src=hash'}],\n",
       "  'links': [{'url': 'pic.twitter.com/7hqbJ2nC7G',\n",
       "    'archived_url': 'http://web.archive.org/web/20160208193830/https://t.co/7hqbJ2nC7G'}]}]"
      ]
     },
     "execution_count": 734,
     "metadata": {},
     "output_type": "execute_result"
    }
   ],
   "source": [
    "invalid_tweets[:3]"
   ]
  },
  {
   "cell_type": "markdown",
   "metadata": {},
   "source": [
    "## Write JSON with all tweets we found"
   ]
  },
  {
   "cell_type": "code",
   "execution_count": 735,
   "metadata": {},
   "outputs": [
    {
     "name": "stdout",
     "output_type": "stream",
     "text": [
      "CPU times: user 108 ms, sys: 4 ms, total: 112 ms\n",
      "Wall time: 118 ms\n"
     ]
    }
   ],
   "source": [
    "%%time\n",
    "with open(\"./data/tweets_full.json\", \"w\") as f:\n",
    "    json.dump(valid_tweets, f, ensure_ascii=False, sort_keys=True, indent=4)"
   ]
  },
  {
   "cell_type": "code",
   "execution_count": null,
   "metadata": {},
   "outputs": [],
   "source": []
  }
 ],
 "metadata": {
  "kernelspec": {
   "display_name": "Python 3",
   "language": "python",
   "name": "python3"
  },
  "language_info": {
   "codemirror_mode": {
    "name": "ipython",
    "version": 3
   },
   "file_extension": ".py",
   "mimetype": "text/x-python",
   "name": "python",
   "nbconvert_exporter": "python",
   "pygments_lexer": "ipython3",
   "version": "3.6.3"
  }
 },
 "nbformat": 4,
 "nbformat_minor": 2
}
