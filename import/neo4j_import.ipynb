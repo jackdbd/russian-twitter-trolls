{
 "cells": [
  {
   "cell_type": "markdown",
   "metadata": {},
   "source": [
    "# Neo4j Import\n",
    "\n",
    "Now that we have our scraped tweet data we're ready to insert into Neo4j. We'll do this by loading the JSON data and passing it as a parameter to a Cypher query, using the [official Python driver for Neo4j](https://github.com/neo4j/neo4j-python-driver).\n",
    "\n",
    "*Note: don't forget to start the Neo4j service*: `sudo service neo4j start`"
   ]
  },
  {
   "cell_type": "code",
   "execution_count": 2,
   "metadata": {},
   "outputs": [],
   "source": [
    "import os\n",
    "import json\n",
    "from dotenv import find_dotenv, load_dotenv\n",
    "from neo4j.v1 import GraphDatabase  # official Neo4j driver for Python"
   ]
  },
  {
   "cell_type": "code",
   "execution_count": 8,
   "metadata": {},
   "outputs": [
    {
     "data": {
      "text/plain": [
       "True"
      ]
     },
     "execution_count": 8,
     "metadata": {},
     "output_type": "execute_result"
    }
   ],
   "source": [
    "load_dotenv(find_dotenv(\".env\"))"
   ]
  },
  {
   "cell_type": "code",
   "execution_count": 9,
   "metadata": {},
   "outputs": [],
   "source": [
    "NEO4J_USERNAME = os.environ.get(\"NEO4J_USERNAME\")\n",
    "NEO4J_PASSWORD = os.environ.get(\"NEO4J_PASSWORD\")"
   ]
  },
  {
   "cell_type": "code",
   "execution_count": 11,
   "metadata": {},
   "outputs": [],
   "source": [
    "driver = GraphDatabase.driver(\"bolt://localhost:7687\", auth=(NEO4J_USERNAME, NEO4J_PASSWORD))"
   ]
  },
  {
   "cell_type": "code",
   "execution_count": 15,
   "metadata": {},
   "outputs": [],
   "source": [
    "with open('./data/tweets_full.json') as json_data:\n",
    "    valid_tweets = json.load(json_data)"
   ]
  },
  {
   "cell_type": "code",
   "execution_count": 16,
   "metadata": {},
   "outputs": [
    {
     "data": {
      "text/plain": [
       "1463"
      ]
     },
     "execution_count": 16,
     "metadata": {},
     "output_type": "execute_result"
    }
   ],
   "source": [
    "len(valid_tweets)"
   ]
  },
  {
   "cell_type": "markdown",
   "metadata": {},
   "source": [
    "## Delete everything in Neo4j"
   ]
  },
  {
   "cell_type": "code",
   "execution_count": 20,
   "metadata": {},
   "outputs": [],
   "source": [
    "delete_query = '''\n",
    "MATCH (n)\n",
    "DETACH DELETE (n)\n",
    "'''"
   ]
  },
  {
   "cell_type": "code",
   "execution_count": 21,
   "metadata": {},
   "outputs": [
    {
     "name": "stdout",
     "output_type": "stream",
     "text": [
      "CPU times: user 2.68 ms, sys: 0 ns, total: 2.68 ms\n",
      "Wall time: 341 ms\n"
     ]
    }
   ],
   "source": [
    "%%time\n",
    "with driver.session() as session:\n",
    "    session.run(delete_query)"
   ]
  },
  {
   "cell_type": "markdown",
   "metadata": {},
   "source": [
    "## Check that Neo4j contains no data"
   ]
  },
  {
   "cell_type": "code",
   "execution_count": 40,
   "metadata": {},
   "outputs": [
    {
     "name": "stdout",
     "output_type": "stream",
     "text": [
      "CPU times: user 1.54 ms, sys: 189 µs, total: 1.73 ms\n",
      "Wall time: 2.33 ms\n"
     ]
    }
   ],
   "source": [
    "%%time\n",
    "with driver.session() as session:\n",
    "    res = session.run(\"MATCH (n) RETURN (n)\")"
   ]
  },
  {
   "cell_type": "code",
   "execution_count": 42,
   "metadata": {},
   "outputs": [
    {
     "data": {
      "text/plain": [
       "[]"
      ]
     },
     "execution_count": 42,
     "metadata": {},
     "output_type": "execute_result"
    }
   ],
   "source": [
    "res.data()"
   ]
  },
  {
   "cell_type": "markdown",
   "metadata": {},
   "source": [
    "## Import all valid tweets into Neo4j"
   ]
  },
  {
   "cell_type": "code",
   "execution_count": 43,
   "metadata": {},
   "outputs": [],
   "source": [
    "import_query = '''\n",
    "WITH $valid_tweets AS tweets\n",
    "UNWIND tweets AS tweet\n",
    "MERGE (u:User {user_id: tweet.user_id})\n",
    "ON CREATE SET u.screen_name = tweet.screen_name\n",
    "MERGE (t:Tweet {tweet_id: tweet.tweet_id})\n",
    "ON CREATE SET\n",
    "  t.text = tweet.tweet_text,\n",
    "  t.permalink = tweet.permalink\n",
    "MERGE (u)-[:POSTED]->(t)\n",
    "\n",
    "FOREACH (ht IN tweet.hashtags |\n",
    "  MERGE (h:Hashtag {tag: ht.tag })\n",
    "  ON CREATE SET h.archived_url = ht.archived_url\n",
    "  MERGE (t)-[:HAS_TAG]->(h)\n",
    ")\n",
    "\n",
    "FOREACH (link IN tweet.links |\n",
    "  MERGE (l:Link {url: link.url})\n",
    "  ON CREATE SET l.archived_url = link.archived_url\n",
    "  MERGE (t)-[:HAS_LINK]->(l)\n",
    ")\n",
    "'''"
   ]
  },
  {
   "cell_type": "markdown",
   "metadata": {},
   "source": [
    "It's better to use a transaction to import the data."
   ]
  },
  {
   "cell_type": "code",
   "execution_count": 45,
   "metadata": {},
   "outputs": [
    {
     "name": "stdout",
     "output_type": "stream",
     "text": [
      "CPU times: user 149 ms, sys: 0 ns, total: 149 ms\n",
      "Wall time: 4.91 s\n"
     ]
    }
   ],
   "source": [
    "%%time\n",
    "def add_tweets(tx):\n",
    "    tx.run(import_query, valid_tweets=valid_tweets)\n",
    "\n",
    "with driver.session() as session:\n",
    "    session.write_transaction(unit_of_work=add_tweets)"
   ]
  },
  {
   "cell_type": "markdown",
   "metadata": {},
   "source": [
    "## Check that tweets were stored in Neo4j"
   ]
  },
  {
   "cell_type": "markdown",
   "metadata": {},
   "source": [
    "We can check that the data was succesfully inserted by running a simple query."
   ]
  },
  {
   "cell_type": "code",
   "execution_count": 66,
   "metadata": {},
   "outputs": [],
   "source": [
    "query = '''\n",
    "MATCH (u:User)-[:POSTED]->(t:Tweet)\n",
    "MATCH (t)-[:HAS_TAG]->(h:Hashtag)\n",
    "WHERE h.tag = 'superbowlfood'\n",
    "RETURN u, t, h\n",
    "'''"
   ]
  },
  {
   "cell_type": "code",
   "execution_count": 67,
   "metadata": {},
   "outputs": [
    {
     "name": "stdout",
     "output_type": "stream",
     "text": [
      "CPU times: user 3.6 ms, sys: 0 ns, total: 3.6 ms\n",
      "Wall time: 14.4 ms\n"
     ]
    }
   ],
   "source": [
    "%%time\n",
    "with driver.session() as session:\n",
    "    res = session.run(query)"
   ]
  },
  {
   "cell_type": "code",
   "execution_count": 68,
   "metadata": {},
   "outputs": [
    {
     "data": {
      "text/plain": [
       "\"\\nMATCH (u:User)-[:POSTED]->(t:Tweet)\\nMATCH (t)-[:HAS_TAG]->(h:Hashtag)\\nWHERE h.tag = 'superbowlfood'\\nRETURN u, t, h\\n\""
      ]
     },
     "execution_count": 68,
     "metadata": {},
     "output_type": "execute_result"
    }
   ],
   "source": [
    "res.statement"
   ]
  },
  {
   "cell_type": "code",
   "execution_count": 69,
   "metadata": {},
   "outputs": [
    {
     "data": {
      "text/plain": [
       "[{'u': <Node id=6212 labels={'User'} properties={'screen_name': 'AlwaysHungryBae', 'user_id': '2882130846'}>,\n",
       "  't': <Node id=6537 labels={'Tweet'} properties={'permalink': '/AlwaysHungryBae/status/561931644785811457', 'tweet_id': '561931644785811457', 'text': 'Happy Super Bowl Sunday \\n'}>,\n",
       "  'h': <Node id=7989 labels={'Hashtag'} properties={'tag': 'superbowlfood', 'archived_url': '/web/20150603004258/https://twitter.com/hashtag/superbowlfood?src=hash'}>},\n",
       " {'u': <Node id=6213 labels={'User'} properties={'user_id': '61483830', 'screen_name': 'BMoreBirdsNest'}>,\n",
       "  't': <Node id=6538 labels={'Tweet'} properties={'permalink': '/BMoreBirdsNest/status/561917739108155392', 'tweet_id': '561917739108155392', 'text': 'Making the award-winning Pigs in a Pillow again today! Bacon, goat cheese, jam, glazed donut as bread. '}>,\n",
       "  'h': <Node id=7989 labels={'Hashtag'} properties={'tag': 'superbowlfood', 'archived_url': '/web/20150603004258/https://twitter.com/hashtag/superbowlfood?src=hash'}>},\n",
       " {'u': <Node id=6215 labels={'User'} properties={'screen_name': 'FoodiePhysician', 'user_id': '612115093'}>,\n",
       "  't': <Node id=6540 labels={'Tweet'} properties={'permalink': '/FoodiePhysician/status/561923181146300419', 'tweet_id': '561923181146300419', 'text': 'FRUIT RAINBOW- a fun way to serve your fruit today! '}>,\n",
       "  'h': <Node id=7989 labels={'Hashtag'} properties={'tag': 'superbowlfood', 'archived_url': '/web/20150603004258/https://twitter.com/hashtag/superbowlfood?src=hash'}>},\n",
       " {'u': <Node id=6212 labels={'User'} properties={'screen_name': 'AlwaysHungryBae', 'user_id': '2882130846'}>,\n",
       "  't': <Node id=6541 labels={'Tweet'} properties={'permalink': '/AlwaysHungryBae/status/561930665294565376', 'tweet_id': '561930665294565376', 'text': 'Happy Super Bowl Sunday \\n'}>,\n",
       "  'h': <Node id=7989 labels={'Hashtag'} properties={'tag': 'superbowlfood', 'archived_url': '/web/20150603004258/https://twitter.com/hashtag/superbowlfood?src=hash'}>},\n",
       " {'u': <Node id=6212 labels={'User'} properties={'screen_name': 'AlwaysHungryBae', 'user_id': '2882130846'}>,\n",
       "  't': <Node id=6542 labels={'Tweet'} properties={'permalink': '/AlwaysHungryBae/status/561930595933384704', 'tweet_id': '561930595933384704', 'text': 'Happy Super Bowl Sunday \\n'}>,\n",
       "  'h': <Node id=7989 labels={'Hashtag'} properties={'tag': 'superbowlfood', 'archived_url': '/web/20150603004258/https://twitter.com/hashtag/superbowlfood?src=hash'}>},\n",
       " {'u': <Node id=6212 labels={'User'} properties={'screen_name': 'AlwaysHungryBae', 'user_id': '2882130846'}>,\n",
       "  't': <Node id=6543 labels={'Tweet'} properties={'permalink': '/AlwaysHungryBae/status/561930490404687872', 'tweet_id': '561930490404687872', 'text': 'Happy Super Bowl Sunday \\n'}>,\n",
       "  'h': <Node id=7989 labels={'Hashtag'} properties={'tag': 'superbowlfood', 'archived_url': '/web/20150603004258/https://twitter.com/hashtag/superbowlfood?src=hash'}>},\n",
       " {'u': <Node id=6212 labels={'User'} properties={'screen_name': 'AlwaysHungryBae', 'user_id': '2882130846'}>,\n",
       "  't': <Node id=6544 labels={'Tweet'} properties={'permalink': '/AlwaysHungryBae/status/561930433810952192', 'tweet_id': '561930433810952192', 'text': 'Happy Super Bowl Sunday \\n'}>,\n",
       "  'h': <Node id=7989 labels={'Hashtag'} properties={'tag': 'superbowlfood', 'archived_url': '/web/20150603004258/https://twitter.com/hashtag/superbowlfood?src=hash'}>}]"
      ]
     },
     "execution_count": 69,
     "metadata": {},
     "output_type": "execute_result"
    }
   ],
   "source": [
    "res.data()"
   ]
  },
  {
   "cell_type": "markdown",
   "metadata": {},
   "source": [
    "![\"Graph of users who tweetes #superbowlfood\"](../img/superbowlfood.png)"
   ]
  },
  {
   "cell_type": "code",
   "execution_count": 89,
   "metadata": {},
   "outputs": [],
   "source": [
    "query = '''\n",
    "// What are the 10 most common hashtags\n",
    "MATCH (u:User)-[:POSTED]->(t:Tweet)-[:HAS_TAG]->(h:Hashtag)\n",
    "RETURN h.tag AS hashtag, COUNT(*) AS num\n",
    "ORDER BY num DESC\n",
    "LIMIT 10\n",
    "'''"
   ]
  },
  {
   "cell_type": "code",
   "execution_count": 91,
   "metadata": {},
   "outputs": [
    {
     "data": {
      "text/plain": [
       "[{'hashtag': 'politics', 'num': 57},\n",
       " {'hashtag': 'news', 'num': 30},\n",
       " {'hashtag': 'crime', 'num': 21},\n",
       " {'hashtag': 'sports', 'num': 19},\n",
       " {'hashtag': 'Cleveland', 'num': 17},\n",
       " {'hashtag': 'TrumpForPresident', 'num': 16},\n",
       " {'hashtag': 'tcot', 'num': 12},\n",
       " {'hashtag': 'ColumbianChemicals', 'num': 11},\n",
       " {'hashtag': 'MAGA', 'num': 11},\n",
       " {'hashtag': 'Chicago', 'num': 11}]"
      ]
     },
     "execution_count": 91,
     "metadata": {},
     "output_type": "execute_result"
    }
   ],
   "source": [
    "with driver.session() as session:\n",
    "    res = session.run(query)\n",
    "res.data()"
   ]
  },
  {
   "cell_type": "code",
   "execution_count": 92,
   "metadata": {},
   "outputs": [],
   "source": [
    "query = '''\n",
    "// What hashtags are used together most frequently\n",
    "MATCH (h1:Hashtag)<-[:HAS_TAG]-(t:Tweet)-[:HAS_TAG]->(h2:Hashtag)\n",
    "WHERE id(h1) < id(h2)\n",
    "RETURN h1.tag, h2.tag, COUNT(*) AS num\n",
    "ORDER BY num DESC\n",
    "LIMIT 5\n",
    "'''"
   ]
  },
  {
   "cell_type": "code",
   "execution_count": 93,
   "metadata": {},
   "outputs": [
    {
     "data": {
      "text/plain": [
       "[{'h1.tag': 'sports', 'h2.tag': 'Cleveland', 'num': 8},\n",
       " {'h1.tag': 'TrumpForPresident', 'h2.tag': 'HillaryForPrison2016', 'num': 6},\n",
       " {'h1.tag': 'politics', 'h2.tag': 'Cleveland', 'num': 6},\n",
       " {'h1.tag': 'ColumbianChemicals', 'h2.tag': 'DeadHorse', 'num': 5},\n",
       " {'h1.tag': 'TrumpRally', 'h2.tag': 'Melbourne', 'num': 4}]"
      ]
     },
     "execution_count": 93,
     "metadata": {},
     "output_type": "execute_result"
    }
   ],
   "source": [
    "with driver.session() as session:\n",
    "    res = session.run(query)\n",
    "res.data()"
   ]
  },
  {
   "cell_type": "code",
   "execution_count": 100,
   "metadata": {},
   "outputs": [],
   "source": [
    "query = '''\n",
    "// Most common domains shared in tweets\n",
    "MATCH (t:Tweet)-[:HAS_LINK]->(u:Link)\n",
    "WITH t, replace(replace(u.url, \"http://\", '' ), \"https://\", '') AS url\n",
    "RETURN COUNT(t) AS num, head(split(url, \"/\")) AS domain\n",
    "ORDER BY num\n",
    "DESC LIMIT 10\n",
    "'''"
   ]
  },
  {
   "cell_type": "code",
   "execution_count": 101,
   "metadata": {},
   "outputs": [
    {
     "data": {
      "text/plain": [
       "[{'num': 836, 'domain': 'pic.twitter.com'},\n",
       " {'num': 91, 'domain': 'bit.ly'},\n",
       " {'num': 80, 'domain': 'pbs.twimg.com'},\n",
       " {'num': 62, 'domain': 'twitter.com'},\n",
       " {'num': 21, 'domain': 'riafan.ru'},\n",
       " {'num': 20, 'domain': 'inforeactor.ru'},\n",
       " {'num': 17, 'domain': 'goodspb.livejournal.com'},\n",
       " {'num': 15, 'domain': 'www.fox5atlanta.com'},\n",
       " {'num': 14, 'domain': 'goo.gl'},\n",
       " {'num': 6, 'domain': 'blackmattersus.com'}]"
      ]
     },
     "execution_count": 101,
     "metadata": {},
     "output_type": "execute_result"
    }
   ],
   "source": [
    "with driver.session() as session:\n",
    "    res = session.run(query)\n",
    "res.data()"
   ]
  },
  {
   "cell_type": "markdown",
   "metadata": {},
   "source": [
    "## Define GraphQL schema"
   ]
  },
  {
   "cell_type": "code",
   "execution_count": 70,
   "metadata": {},
   "outputs": [],
   "source": [
    "graphQL_schema = '''\n",
    "\n",
    "type Tweet {\n",
    "    tweet_id: ID!\n",
    "    text: String\n",
    "    permalink: String\n",
    "    author: User @relation(name: \"POSTED\", direction: \"IN\")\n",
    "    hashtags: [Hashtag] @relation(name: \"HAS_TAG\", direction: \"IN\")\n",
    "    links: [Link] @relation(name: \"HAS_LINK\", direction: \"IN\")\n",
    "}\n",
    "\n",
    "type User {\n",
    "    user_id: ID!\n",
    "    screen_name: String\n",
    "    tweets: [Tweet] @relation(name: \"POSTED\", direction: \"OUT\")\n",
    "}\n",
    "\n",
    "type Hashtag {\n",
    "    tag: ID!\n",
    "    archived_url: String\n",
    "    tweets: [Tweet] @relation(name: \"HAS_TAG\", direction: \"IN\")\n",
    "}\n",
    "\n",
    "type Link {\n",
    "    url: ID!\n",
    "    archived_url: String\n",
    "}\n",
    "'''"
   ]
  },
  {
   "cell_type": "code",
   "execution_count": null,
   "metadata": {
    "collapsed": true
   },
   "outputs": [],
   "source": []
  }
 ],
 "metadata": {
  "kernelspec": {
   "display_name": "Python 3",
   "language": "python",
   "name": "python3"
  },
  "language_info": {
   "codemirror_mode": {
    "name": "ipython",
    "version": 3
   },
   "file_extension": ".py",
   "mimetype": "text/x-python",
   "name": "python",
   "nbconvert_exporter": "python",
   "pygments_lexer": "ipython3",
   "version": "3.6.5"
  }
 },
 "nbformat": 4,
 "nbformat_minor": 2
}
